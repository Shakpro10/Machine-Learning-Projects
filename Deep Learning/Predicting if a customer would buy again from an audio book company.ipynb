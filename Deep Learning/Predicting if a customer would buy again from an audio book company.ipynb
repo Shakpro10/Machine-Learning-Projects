{
 "cells": [
  {
   "cell_type": "markdown",
   "id": "0c5b9183-1dd4-4627-852d-3d2b50908ec8",
   "metadata": {},
   "source": [
    "# Business case: Outlining the solution"
   ]
  },
  {
   "cell_type": "markdown",
   "id": "2378f6d4-d62b-40d4-9dc4-a59506aa1c3c",
   "metadata": {},
   "source": [
    "### Create the deep learning algorithm"
   ]
  },
  {
   "cell_type": "markdown",
   "id": "dc45af03-19c3-4a4e-9c9e-7501fb0d316b",
   "metadata": {},
   "source": [
    "## Import the relevant libraries"
   ]
  },
  {
   "cell_type": "code",
   "execution_count": 1,
   "id": "6481fff5-00be-4a96-b4f6-4f084d316708",
   "metadata": {},
   "outputs": [],
   "source": [
    "import numpy as np\n",
    "import tensorflow as tf"
   ]
  },
  {
   "cell_type": "markdown",
   "id": "783b3913-4f81-4a1b-b376-f6fbe8a452c6",
   "metadata": {},
   "source": [
    "## Load the data"
   ]
  },
  {
   "cell_type": "code",
   "execution_count": 2,
   "id": "1668d8b9-d3cc-4caa-a3e3-c8a6d852bdef",
   "metadata": {},
   "outputs": [],
   "source": [
    "npz = np.load('Audiobooks_data_train.npz') # load the preprocessed training data \n",
    "train_inputs = npz['inputs'].astype(float) # extract the training inputs\n",
    "train_targets = npz['targets'].astype(int) # extract the training targets \n",
    "\n",
    "npz = np.load('Audiobooks_data_validation.npz') # load the preprocessed validation data \n",
    "validation_inputs, validation_targets = npz['inputs'].astype(float), npz['targets'].astype(int) # extract the validation inputs sand targets\n",
    "\n",
    "npz = np.load('Audiobooks_data_test.npz') # load the preprocessed test data \n",
    "test_inputs, test_targets = npz['inputs'].astype(float), npz['targets'].astype(int) # extract the test inputs sand targets"
   ]
  },
  {
   "cell_type": "markdown",
   "id": "58ad10bf-fc09-4efc-a499-d913673ae16d",
   "metadata": {},
   "source": [
    "## Learning and interpreting the result"
   ]
  },
  {
   "cell_type": "code",
   "execution_count": 3,
   "id": "791f5074-5bf8-4af4-832f-8bf6e264f795",
   "metadata": {
    "scrolled": true
   },
   "outputs": [
    {
     "name": "stdout",
     "output_type": "stream",
     "text": [
      "Epoch 1/100\n",
      "36/36 - 7s - 189ms/step - accuracy: 0.7463 - loss: 0.4836 - val_accuracy: 0.7808 - val_loss: 0.3967\n",
      "Epoch 2/100\n",
      "36/36 - 1s - 38ms/step - accuracy: 0.7924 - loss: 0.3847 - val_accuracy: 0.8300 - val_loss: 0.3614\n",
      "Epoch 3/100\n",
      "36/36 - 1s - 19ms/step - accuracy: 0.7946 - loss: 0.3662 - val_accuracy: 0.8456 - val_loss: 0.3378\n",
      "Epoch 4/100\n",
      "36/36 - 1s - 17ms/step - accuracy: 0.8078 - loss: 0.3521 - val_accuracy: 0.8210 - val_loss: 0.3453\n",
      "Epoch 5/100\n",
      "36/36 - 1s - 19ms/step - accuracy: 0.8097 - loss: 0.3496 - val_accuracy: 0.8210 - val_loss: 0.3273\n",
      "Epoch 6/100\n",
      "36/36 - 1s - 20ms/step - accuracy: 0.8139 - loss: 0.3417 - val_accuracy: 0.8233 - val_loss: 0.3219\n",
      "Epoch 7/100\n",
      "36/36 - 1s - 21ms/step - accuracy: 0.8192 - loss: 0.3408 - val_accuracy: 0.8233 - val_loss: 0.3200\n",
      "Epoch 8/100\n",
      "36/36 - 1s - 23ms/step - accuracy: 0.8150 - loss: 0.3420 - val_accuracy: 0.8277 - val_loss: 0.3207\n",
      "Epoch 9/100\n",
      "36/36 - 1s - 18ms/step - accuracy: 0.8178 - loss: 0.3350 - val_accuracy: 0.8255 - val_loss: 0.3116\n",
      "Epoch 10/100\n",
      "36/36 - 1s - 23ms/step - accuracy: 0.8153 - loss: 0.3419 - val_accuracy: 0.8412 - val_loss: 0.3192\n",
      "Epoch 11/100\n",
      "36/36 - 1s - 20ms/step - accuracy: 0.8201 - loss: 0.3373 - val_accuracy: 0.7987 - val_loss: 0.3416\n"
     ]
    },
    {
     "data": {
      "text/plain": [
       "<keras.src.callbacks.history.History at 0x1f4d5273850>"
      ]
     },
     "execution_count": 3,
     "metadata": {},
     "output_type": "execute_result"
    }
   ],
   "source": [
    "input_size = 10 # set the input length\n",
    "output_size = 2 # output length\n",
    "hidden_layer_size = 200 # number of nodes in the hidden layer\n",
    "\n",
    "# Ordering the layers in sequelce\n",
    "model = tf.keras.Sequential([\n",
    "                            tf.keras.layers.Dense(hidden_layer_size, activation='relu'),\n",
    "                            tf.keras.layers.Dense(hidden_layer_size, activation='relu'),\n",
    "                            tf.keras.layers.Dense(output_size, activation='softmax'),\n",
    "                            ])\n",
    "\n",
    "# Set the optimizer and loss function\n",
    "model.compile(optimizer='adam', loss='sparse_categorical_crossentropy', metrics=['accuracy'])\n",
    "\n",
    "batch_size = 100 # set the batch size\n",
    "\n",
    "max_epochs = 100 # set the number of iterations\n",
    "\n",
    "early_stopping = tf.keras.callbacks.EarlyStopping(patience=2)\n",
    "\n",
    "# Training the model\n",
    "model.fit(train_inputs,\n",
    "         train_targets,\n",
    "         batch_size = batch_size,\n",
    "         epochs = max_epochs,\n",
    "         callbacks = [early_stopping],\n",
    "         validation_data = (validation_inputs, validation_targets),\n",
    "         verbose = 2)"
   ]
  },
  {
   "cell_type": "markdown",
   "id": "d253b840-e013-4c2d-a5cc-f53c84fbf17f",
   "metadata": {},
   "source": [
    "## Testing the model"
   ]
  },
  {
   "cell_type": "code",
   "execution_count": 4,
   "id": "47d0630b-55d4-446f-ae3c-a67aaa83008b",
   "metadata": {},
   "outputs": [
    {
     "name": "stdout",
     "output_type": "stream",
     "text": [
      "\u001b[1m14/14\u001b[0m \u001b[32m━━━━━━━━━━━━━━━━━━━━\u001b[0m\u001b[37m\u001b[0m \u001b[1m0s\u001b[0m 9ms/step - accuracy: 0.8099 - loss: 0.3834\n"
     ]
    }
   ],
   "source": [
    "test_loss, test_accuracy = model.evaluate(test_inputs, test_targets)"
   ]
  },
  {
   "cell_type": "code",
   "execution_count": 5,
   "id": "d45cfa15-7faf-45e3-bdcc-67d003d34c20",
   "metadata": {},
   "outputs": [
    {
     "name": "stdout",
     "output_type": "stream",
     "text": [
      "Test loss: 0.38    Test accuracy: 80.80%   \n"
     ]
    }
   ],
   "source": [
    "print('Test loss: {0:.2f}    Test accuracy: {1:.2f}%   '.format(test_loss, test_accuracy*100.))"
   ]
  },
  {
   "cell_type": "code",
   "execution_count": null,
   "id": "0359231c-e740-4295-b5f9-1b5671341160",
   "metadata": {},
   "outputs": [],
   "source": []
  }
 ],
 "metadata": {
  "kernelspec": {
   "display_name": "Python 3 (ipykernel)",
   "language": "python",
   "name": "python3"
  },
  "language_info": {
   "codemirror_mode": {
    "name": "ipython",
    "version": 3
   },
   "file_extension": ".py",
   "mimetype": "text/x-python",
   "name": "python",
   "nbconvert_exporter": "python",
   "pygments_lexer": "ipython3",
   "version": "3.11.7"
  }
 },
 "nbformat": 4,
 "nbformat_minor": 5
}
