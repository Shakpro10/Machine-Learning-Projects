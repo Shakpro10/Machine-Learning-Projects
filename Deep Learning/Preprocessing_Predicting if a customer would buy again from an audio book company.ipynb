{
 "cells": [
  {
   "cell_type": "markdown",
   "id": "d31bb317-8edb-45f3-bbb8-9014cd2b1d55",
   "metadata": {},
   "source": [
    "# Business case: Outlining the solution"
   ]
  },
  {
   "cell_type": "markdown",
   "id": "02f05324-607a-4a54-9f2a-5f6fc5026afe",
   "metadata": {},
   "source": [
    "### 1. Preprocess the data\n",
    "##### 1.1 Balance the dataset\n",
    "##### 1.2 Divide the dataset into training, validation and test\n",
    "##### 1.3 Save the data in a tensor friendly format\n",
    "\n",
    "### 2. Create the machine learning algorithm"
   ]
  },
  {
   "cell_type": "markdown",
   "id": "d5a1b9e1-cafa-4047-a90e-0caa4094c978",
   "metadata": {},
   "source": [
    "## Import the relevant libraries"
   ]
  },
  {
   "cell_type": "code",
   "execution_count": 1,
   "id": "8d6039ca-fe59-4b2a-9e66-b639b5a3a15c",
   "metadata": {},
   "outputs": [],
   "source": [
    "import numpy as np\n",
    "from sklearn import preprocessing"
   ]
  },
  {
   "cell_type": "markdown",
   "id": "2a2b1941-97b7-4521-bf8d-efd0ff79a70a",
   "metadata": {},
   "source": [
    "## Load the data"
   ]
  },
  {
   "cell_type": "code",
   "execution_count": 2,
   "id": "fbf765a0-9431-49f4-882a-84ba7f4fda15",
   "metadata": {},
   "outputs": [],
   "source": [
    "raw_csv_data = np.loadtxt(r'C:\\Users\\HP\\Downloads\\Audiobooks_data.csv', delimiter=',') \n",
    "\n",
    "unscaled_inputs_all = raw_csv_data[:, 1:-1] # select the inputs\n",
    "targets_all = raw_csv_data[:, -1] # select the target"
   ]
  },
  {
   "cell_type": "markdown",
   "id": "5433bc7c-959e-4c73-8bf6-1b03f82ea3ab",
   "metadata": {},
   "source": [
    "## Balance the dataset"
   ]
  },
  {
   "cell_type": "code",
   "execution_count": 3,
   "id": "aa760033-94ac-448f-8e4a-3338774b5016",
   "metadata": {},
   "outputs": [],
   "source": [
    "num_one_targets = int(np.sum(targets_all)) # number of targets that are '1s'\n",
    "zero_targets_counter = 0 # counter for targets that are '0s'\n",
    "indices_to_remove = [] # empty list for indices to remove\n",
    "\n",
    "for i in range (targets_all.shape[0]):\n",
    "    if targets_all[i] == 0:\n",
    "        zero_targets_counter += 1 # counts of all zero targets\n",
    "        if zero_targets_counter > num_one_targets: # if counts of all zero targets becomes greater than sum of targets that are '1s'\n",
    "            indices_to_remove.append(i) # insert the greater zero targets row_wise in the list 'indices_to_remove'\n",
    "\n",
    "unscaled_inputs_equal_priors = np.delete(unscaled_inputs_all, indices_to_remove, axis=0) # delete the selected array from the total input array\n",
    "targets_equal_priors = np.delete(targets_all, indices_to_remove, axis=0) # delete the selected array from the total target array"
   ]
  },
  {
   "cell_type": "markdown",
   "id": "9d900f8d-04a7-4f5b-8e84-e10ad32c42eb",
   "metadata": {},
   "source": [
    "## Standardizing the inputs"
   ]
  },
  {
   "cell_type": "code",
   "execution_count": 4,
   "id": "cc644e85-3478-4309-b994-a1ff80238350",
   "metadata": {},
   "outputs": [],
   "source": [
    "scaled_inputs = preprocessing.scale(unscaled_inputs_equal_priors)"
   ]
  },
  {
   "cell_type": "markdown",
   "id": "77fc2660-3501-4035-bbdd-0e6b27b33f9b",
   "metadata": {},
   "source": [
    "## Shuffle the data"
   ]
  },
  {
   "cell_type": "code",
   "execution_count": 5,
   "id": "f874ee96-a3f6-49e0-a977-188dc953ba5f",
   "metadata": {},
   "outputs": [],
   "source": [
    "shuffled_indices = np.arange(scaled_inputs.shape[0]) # shuffling in the range 4474\n",
    "np.random.seed(1)\n",
    "np.random.shuffle(shuffled_indices) # random shuffling\n",
    "\n",
    "shuffled_inputs = scaled_inputs[shuffled_indices] # apply the shuffled indices to the scaled inputs\n",
    "shuffled_targets = targets_equal_priors[shuffled_indices] # apply the shuffled indices to the target"
   ]
  },
  {
   "cell_type": "markdown",
   "id": "1b17ba1e-36ef-43ec-99e4-ff5185700a2a",
   "metadata": {},
   "source": [
    "## Split the data into train, validation and test"
   ]
  },
  {
   "cell_type": "code",
   "execution_count": 6,
   "id": "44580c90-6b2e-49a6-a632-7eaec9922b94",
   "metadata": {},
   "outputs": [],
   "source": [
    "samples_count = shuffled_inputs.shape[0] # number of samples\n",
    "\n",
    "train_samples_count = int(0.8 * samples_count) # percentage of train samples\n",
    "validation_samples_count = int(0.1 * samples_count) # percentage of validation samples\n",
    "test_samples_count = samples_count - train_samples_count - validation_samples_count # percentage of test samples\n",
    "\n",
    "train_inputs = shuffled_inputs[:train_samples_count] # extract the training inputs\n",
    "train_targets = shuffled_targets[:train_samples_count] # extract the training targets\n",
    "\n",
    "validation_inputs = shuffled_inputs[train_samples_count:train_samples_count + validation_samples_count] # extract the validation inputs\n",
    "validation_targets = shuffled_targets[train_samples_count:train_samples_count + validation_samples_count] # extract the validation targets\n",
    "\n",
    "test_inputs = shuffled_inputs[train_samples_count + validation_samples_count:] # extract the test inputs\n",
    "test_targets = shuffled_targets[train_samples_count + validation_samples_count:] # extract the test target"
   ]
  },
  {
   "cell_type": "markdown",
   "id": "abbaf1d7-8933-409c-83a5-ce458f20249a",
   "metadata": {},
   "source": [
    "## Checking how balanced our dataset is "
   ]
  },
  {
   "cell_type": "code",
   "execution_count": 7,
   "id": "19e6b406-8ddb-448a-9ab6-2e4d78125dcf",
   "metadata": {},
   "outputs": [
    {
     "name": "stdout",
     "output_type": "stream",
     "text": [
      "1797.0 3579 0.5020955574182733\n",
      "220.0 447 0.49217002237136465\n",
      "220.0 448 0.49107142857142855\n"
     ]
    }
   ],
   "source": [
    "print(np.sum(train_targets), train_samples_count, np.sum(train_targets)/train_samples_count) # balance of training data\n",
    "print(np.sum(validation_targets), validation_samples_count, np.sum(validation_targets)/validation_samples_count) # balance of validation data\n",
    "print(np.sum(test_targets), test_samples_count, np.sum(test_targets)/test_samples_count) # balance of test data"
   ]
  },
  {
   "cell_type": "markdown",
   "id": "912f2b19-3662-4eee-98d6-a23f51e1b282",
   "metadata": {},
   "source": [
    "## Save the datasets"
   ]
  },
  {
   "cell_type": "code",
   "execution_count": 8,
   "id": "a237d003-f296-4b24-aad7-552fc95af8b2",
   "metadata": {},
   "outputs": [],
   "source": [
    "np.savez('Audiobooks_data_train', inputs=train_inputs, targets=train_targets) # save the training data\n",
    "np.savez('Audiobooks_data_validation', inputs=validation_inputs, targets=validation_targets) # save the validation data\n",
    "np.savez('Audiobooks_data_test', inputs=test_inputs, targets=test_targets) # save the testing data"
   ]
  },
  {
   "cell_type": "code",
   "execution_count": 9,
   "id": "88717d18-151b-4f74-9e8b-9749bb622b0f",
   "metadata": {},
   "outputs": [
    {
     "name": "stdout",
     "output_type": "stream",
     "text": [
      "C:\\Users\\HP\n"
     ]
    }
   ],
   "source": [
    "import os\n",
    "print(os.getcwd())"
   ]
  },
  {
   "cell_type": "code",
   "execution_count": null,
   "id": "682f3af5-d233-4368-b66e-bdaf33c0ee8d",
   "metadata": {},
   "outputs": [],
   "source": []
  }
 ],
 "metadata": {
  "kernelspec": {
   "display_name": "Python 3 (ipykernel)",
   "language": "python",
   "name": "python3"
  },
  "language_info": {
   "codemirror_mode": {
    "name": "ipython",
    "version": 3
   },
   "file_extension": ".py",
   "mimetype": "text/x-python",
   "name": "python",
   "nbconvert_exporter": "python",
   "pygments_lexer": "ipython3",
   "version": "3.11.7"
  }
 },
 "nbformat": 4,
 "nbformat_minor": 5
}
