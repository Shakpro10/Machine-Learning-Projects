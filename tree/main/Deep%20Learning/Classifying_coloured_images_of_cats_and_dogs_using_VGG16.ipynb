{
  "cells": [
    {
      "cell_type": "markdown",
      "metadata": {
        "id": "view-in-github",
        "colab_type": "text"
      },
      "source": [
        "<a href=\"https://colab.research.google.com/github/Shakpro10/Machine-Learning-Projects/blob/main/tree/main/Deep%2520Learning/Classifying_coloured_images_of_cats_and_dogs_using_VGG16.ipynb\" target=\"_parent\"><img src=\"https://colab.research.google.com/assets/colab-badge.svg\" alt=\"Open In Colab\"/></a>"
      ]
    },
    {
      "cell_type": "code",
      "source": [
        "import psutil\n",
        "ram = psutil.virtual_memory()\n",
        "print(f\"Total RAM: {ram.total / (1024 ** 3):.2f} GB\")\n"
      ],
      "metadata": {
        "colab": {
          "base_uri": "https://localhost:8080/"
        },
        "id": "rV_fRSd-GTex",
        "outputId": "bb969f2b-b265-4b2c-f7a8-b533556f605a"
      },
      "id": "rV_fRSd-GTex",
      "execution_count": 1,
      "outputs": [
        {
          "output_type": "stream",
          "name": "stdout",
          "text": [
            "Total RAM: 334.56 GB\n"
          ]
        }
      ]
    },
    {
      "cell_type": "code",
      "source": [
        "import tensorflow as tf\n",
        "\n",
        "try:\n",
        "    tpu_resolver = tf.distribute.cluster_resolver.TPUClusterResolver()\n",
        "    print('TPU detected:', tpu_resolver.master())\n",
        "    # List the available TPU workers\n",
        "    workers = tpu_resolver.cluster_spec().as_dict().get('worker', [])\n",
        "    print('TPU workers:', workers)\n",
        "    if not workers:\n",
        "        print(\"No TPU workers found.\")\n",
        "except ValueError:\n",
        "    print('TPU not available.')"
      ],
      "metadata": {
        "colab": {
          "base_uri": "https://localhost:8080/"
        },
        "id": "7Z8z0joTG3D0",
        "outputId": "cca8750b-875d-4ba3-a15b-48592843f1f8"
      },
      "id": "7Z8z0joTG3D0",
      "execution_count": 2,
      "outputs": [
        {
          "output_type": "stream",
          "name": "stdout",
          "text": [
            "TPU detected: \n",
            "TPU workers: []\n",
            "No TPU workers found.\n"
          ]
        }
      ]
    },
    {
      "cell_type": "code",
      "source": [
        "import tensorflow as tf\n",
        "\n",
        "try:\n",
        "    tpu_resolver = tf.distribute.cluster_resolver.TPUClusterResolver()\n",
        "    tf.config.experimental_connect_to_cluster(tpu_resolver)\n",
        "    tf.tpu.experimental.initialize_tpu_system(tpu_resolver)\n",
        "    strategy = tf.distribute.TPUStrategy(tpu_resolver)\n",
        "    print(\"TPU initialized successfully.\")\n",
        "except ValueError as e:\n",
        "    print('Error initializing TPU:', e)"
      ],
      "metadata": {
        "colab": {
          "base_uri": "https://localhost:8080/"
        },
        "id": "sV0uEmoJGTI8",
        "outputId": "2cd2a1b2-c919-40d5-8967-2ebf6256c7de"
      },
      "id": "sV0uEmoJGTI8",
      "execution_count": 3,
      "outputs": [
        {
          "output_type": "stream",
          "name": "stdout",
          "text": [
            "TPU initialized successfully.\n"
          ]
        }
      ]
    },
    {
      "cell_type": "markdown",
      "id": "4eb1aa90-2c13-4bbd-9c2a-5dcb0bc3fef1",
      "metadata": {
        "id": "4eb1aa90-2c13-4bbd-9c2a-5dcb0bc3fef1"
      },
      "source": [
        "## **PROJECT - Classifying Colored Images of Cats and Dogs**\n",
        "\n",
        "#### Details\n",
        "- Convert the dimensions of the images to 28 x 28 pixels.\n",
        "- The dataset consists of:\n",
        "  - 2000 training images (1000 cats and 1000 dogs)\n",
        "  - 1000 validation images (500 cats and 500 dogs)\n",
        "  - 1000 test images (500 cats and 500 dogs)\n",
        "- We will use data augmentation to improve model performance through various transformations.\n",
        "- Further improvements in model performance will be achieved using transfer earning.\n"
      ]
    },
    {
      "cell_type": "code",
      "execution_count": 4,
      "id": "3c927b88-5d09-4cf9-a133-f6c691443026",
      "metadata": {
        "id": "3c927b88-5d09-4cf9-a133-f6c691443026"
      },
      "outputs": [],
      "source": [
        "# Import the relevant libraries\n",
        "import numpy as np\n",
        "import pandas as pd\n",
        "%matplotlib inline\n",
        "import matplotlib as mpl\n",
        "import matplotlib.pyplot as plt\n",
        "import os\n",
        "import warnings\n",
        "warnings.filterwarnings('ignore')"
      ]
    },
    {
      "cell_type": "code",
      "execution_count": 5,
      "id": "a07c876c-e57b-44c2-8a06-0dab1cd4e86a",
      "metadata": {
        "id": "a07c876c-e57b-44c2-8a06-0dab1cd4e86a"
      },
      "outputs": [],
      "source": [
        "import tensorflow as tf\n",
        "from tensorflow import keras"
      ]
    },
    {
      "cell_type": "code",
      "source": [
        "# Mount drive to import dataset\n",
        "from google.colab import drive\n",
        "drive.mount('/content/drive')"
      ],
      "metadata": {
        "colab": {
          "base_uri": "https://localhost:8080/"
        },
        "id": "ToL4hbkewDu5",
        "outputId": "868a9bdb-5afc-47a4-99aa-196c4209ff09"
      },
      "id": "ToL4hbkewDu5",
      "execution_count": 6,
      "outputs": [
        {
          "output_type": "stream",
          "name": "stdout",
          "text": [
            "Mounted at /content/drive\n"
          ]
        }
      ]
    },
    {
      "cell_type": "code",
      "source": [
        "# Create a folder path\n",
        "folder_path = '/content/drive/My Drive/ML_Dataset/cats_and_dogs_small/'\n",
        "os.listdir(folder_path)  # Lists all files in the folder"
      ],
      "metadata": {
        "colab": {
          "base_uri": "https://localhost:8080/"
        },
        "id": "wQuEcPBLzCnE",
        "outputId": "97f6d951-b60d-450d-8a4a-afc55fea2d51"
      },
      "id": "wQuEcPBLzCnE",
      "execution_count": 7,
      "outputs": [
        {
          "output_type": "execute_result",
          "data": {
            "text/plain": [
              "['test', 'train', 'validation']"
            ]
          },
          "metadata": {},
          "execution_count": 7
        }
      ]
    },
    {
      "cell_type": "code",
      "execution_count": 8,
      "id": "fbdfe494-6909-4ce6-b902-1d68382adc18",
      "metadata": {
        "id": "fbdfe494-6909-4ce6-b902-1d68382adc18"
      },
      "outputs": [],
      "source": [
        "# Read and load the data from their various directories\n",
        "train_dir = '/content/drive/My Drive/ML_Dataset/cats_and_dogs_small/train'\n",
        "validation_dir = '/content/drive/My Drive/ML_Dataset/cats_and_dogs_small/validation'\n",
        "test_dir = '/content/drive/My Drive/ML_Dataset/cats_and_dogs_small/test'\n"
      ]
    },
    {
      "cell_type": "markdown",
      "id": "338fab2f-2b8a-49e5-bd64-a05813898c36",
      "metadata": {
        "id": "338fab2f-2b8a-49e5-bd64-a05813898c36"
      },
      "source": [
        "### Data Preprocessing\n",
        "\n",
        "#### Steps:\n",
        "- Decode the jpeg images to rgb pixels grids\n",
        "- Convert the grids into floating point tensors\n",
        "- Rescale the pixel values to (0, 1) interval"
      ]
    },
    {
      "cell_type": "code",
      "execution_count": 9,
      "id": "79158bc1-81a8-43a4-aee3-c80a98b2cdb2",
      "metadata": {
        "id": "79158bc1-81a8-43a4-aee3-c80a98b2cdb2"
      },
      "outputs": [],
      "source": [
        "# Import the library to perform all the preprocessing steps\n",
        "from tensorflow.keras.preprocessing.image import ImageDataGenerator"
      ]
    },
    {
      "cell_type": "code",
      "execution_count": 10,
      "id": "43c1b6b4-584f-4f8b-bd15-b9d7d67060c9",
      "metadata": {
        "colab": {
          "base_uri": "https://localhost:8080/"
        },
        "id": "43c1b6b4-584f-4f8b-bd15-b9d7d67060c9",
        "outputId": "159fea74-cfdf-419c-aac8-17e2c26d6d2c"
      },
      "outputs": [
        {
          "output_type": "stream",
          "name": "stdout",
          "text": [
            "Found 2000 images belonging to 2 classes.\n",
            "Found 1000 images belonging to 2 classes.\n"
          ]
        }
      ],
      "source": [
        "# Generating batches of tensor image data, rescale, set target size and batch size\n",
        "\n",
        "train_datagen = ImageDataGenerator(\n",
        "        rescale=1./255,\n",
        "        rotation_range=40,\n",
        "        width_shift_range=0.2,\n",
        "        height_shift_range=0.2,\n",
        "        shear_range=0.2,\n",
        "        zoom_range=0.2,\n",
        "        horizontal_flip=True)\n",
        "validation_datagen = ImageDataGenerator(rescale=1./255)\n",
        "\n",
        "train_generator = train_datagen.flow_from_directory(\n",
        "        train_dir,\n",
        "        target_size=(150, 150),\n",
        "        batch_size=20,\n",
        "        class_mode='binary')\n",
        "\n",
        "validation_generator = validation_datagen.flow_from_directory(\n",
        "        validation_dir,\n",
        "        target_size=(150, 150),\n",
        "        batch_size=20,\n",
        "        class_mode='binary')"
      ]
    },
    {
      "cell_type": "code",
      "execution_count": 11,
      "id": "678e273f-dd86-4cb0-9f9c-9e4718a75e32",
      "metadata": {
        "id": "678e273f-dd86-4cb0-9f9c-9e4718a75e32",
        "colab": {
          "base_uri": "https://localhost:8080/"
        },
        "outputId": "3a2b46ae-420b-4dfe-d28d-4a3f0c34fd94"
      },
      "outputs": [
        {
          "output_type": "stream",
          "name": "stdout",
          "text": [
            "Downloading data from https://storage.googleapis.com/tensorflow/keras-applications/vgg16/vgg16_weights_tf_dim_ordering_tf_kernels_notop.h5\n",
            "58889256/58889256 [==============================] - 0s 0us/step\n"
          ]
        }
      ],
      "source": [
        "# Import VGGNet architecture for transfer learning\n",
        "\n",
        "from tensorflow.keras.applications import VGG16\n",
        "\n",
        "conv_base = VGG16(weights='imagenet',\n",
        "                  include_top=False,\n",
        "                  input_shape=(150, 150, 3))"
      ]
    },
    {
      "cell_type": "code",
      "execution_count": 12,
      "id": "1296793c-4689-4d65-b688-35977b1a9f98",
      "metadata": {
        "id": "1296793c-4689-4d65-b688-35977b1a9f98",
        "outputId": "fa894b5a-92ce-4644-bb8c-5cbfa7eb8f86",
        "colab": {
          "base_uri": "https://localhost:8080/"
        }
      },
      "outputs": [
        {
          "output_type": "stream",
          "name": "stdout",
          "text": [
            "Model: \"vgg16\"\n",
            "_________________________________________________________________\n",
            " Layer (type)                Output Shape              Param #   \n",
            "=================================================================\n",
            " input_1 (InputLayer)        [(None, 150, 150, 3)]     0         \n",
            "                                                                 \n",
            " block1_conv1 (Conv2D)       (None, 150, 150, 64)      1792      \n",
            "                                                                 \n",
            " block1_conv2 (Conv2D)       (None, 150, 150, 64)      36928     \n",
            "                                                                 \n",
            " block1_pool (MaxPooling2D)  (None, 75, 75, 64)        0         \n",
            "                                                                 \n",
            " block2_conv1 (Conv2D)       (None, 75, 75, 128)       73856     \n",
            "                                                                 \n",
            " block2_conv2 (Conv2D)       (None, 75, 75, 128)       147584    \n",
            "                                                                 \n",
            " block2_pool (MaxPooling2D)  (None, 37, 37, 128)       0         \n",
            "                                                                 \n",
            " block3_conv1 (Conv2D)       (None, 37, 37, 256)       295168    \n",
            "                                                                 \n",
            " block3_conv2 (Conv2D)       (None, 37, 37, 256)       590080    \n",
            "                                                                 \n",
            " block3_conv3 (Conv2D)       (None, 37, 37, 256)       590080    \n",
            "                                                                 \n",
            " block3_pool (MaxPooling2D)  (None, 18, 18, 256)       0         \n",
            "                                                                 \n",
            " block4_conv1 (Conv2D)       (None, 18, 18, 512)       1180160   \n",
            "                                                                 \n",
            " block4_conv2 (Conv2D)       (None, 18, 18, 512)       2359808   \n",
            "                                                                 \n",
            " block4_conv3 (Conv2D)       (None, 18, 18, 512)       2359808   \n",
            "                                                                 \n",
            " block4_pool (MaxPooling2D)  (None, 9, 9, 512)         0         \n",
            "                                                                 \n",
            " block5_conv1 (Conv2D)       (None, 9, 9, 512)         2359808   \n",
            "                                                                 \n",
            " block5_conv2 (Conv2D)       (None, 9, 9, 512)         2359808   \n",
            "                                                                 \n",
            " block5_conv3 (Conv2D)       (None, 9, 9, 512)         2359808   \n",
            "                                                                 \n",
            " block5_pool (MaxPooling2D)  (None, 4, 4, 512)         0         \n",
            "                                                                 \n",
            "=================================================================\n",
            "Total params: 14714688 (56.13 MB)\n",
            "Trainable params: 14714688 (56.13 MB)\n",
            "Non-trainable params: 0 (0.00 Byte)\n",
            "_________________________________________________________________\n"
          ]
        }
      ],
      "source": [
        "conv_base.summary()"
      ]
    },
    {
      "cell_type": "code",
      "execution_count": 13,
      "id": "340b8f23-b250-428a-b7f4-db61d75af0ce",
      "metadata": {
        "id": "340b8f23-b250-428a-b7f4-db61d75af0ce"
      },
      "outputs": [],
      "source": [
        "# Import the libraries for training the neural network\n",
        "from tensorflow.keras import layers, models, optimizers"
      ]
    },
    {
      "cell_type": "code",
      "execution_count": 14,
      "id": "33e3dd43-dcbd-4c82-a9ee-1f99aeb14315",
      "metadata": {
        "id": "33e3dd43-dcbd-4c82-a9ee-1f99aeb14315",
        "outputId": "1d9c95c3-b6ab-4a18-84d2-7035d40ccc7b",
        "colab": {
          "base_uri": "https://localhost:8080/"
        }
      },
      "outputs": [
        {
          "output_type": "stream",
          "name": "stdout",
          "text": [
            "1/1 [==============================] - 0s 430ms/step\n",
            "Layer: vgg16, Output Tensor: KerasTensor(type_spec=TensorSpec(shape=(None, 4, 4, 512), dtype=tf.float32, name=None), name='block5_pool/MaxPool:0', description=\"created by layer 'block5_pool'\")\n",
            "Layer: flatten, Output Tensor: KerasTensor(type_spec=TensorSpec(shape=(None, 8192), dtype=tf.float32, name=None), name='flatten/Reshape:0', description=\"created by layer 'flatten'\")\n",
            "Layer: dense, Output Tensor: KerasTensor(type_spec=TensorSpec(shape=(None, 256), dtype=tf.float32, name=None), name='dense/Relu:0', description=\"created by layer 'dense'\")\n",
            "Layer: dense_1, Output Tensor: KerasTensor(type_spec=TensorSpec(shape=(None, 1), dtype=tf.float32, name=None), name='dense_1/Sigmoid:0', description=\"created by layer 'dense_1'\")\n",
            "Model: \"sequential\"\n",
            "_________________________________________________________________\n",
            " Layer (type)                Output Shape              Param #   \n",
            "=================================================================\n",
            " vgg16 (Functional)          (None, 4, 4, 512)         14714688  \n",
            "                                                                 \n",
            " flatten (Flatten)           (None, 8192)              0         \n",
            "                                                                 \n",
            " dense (Dense)               (None, 256)               2097408   \n",
            "                                                                 \n",
            " dense_1 (Dense)             (None, 1)                 257       \n",
            "                                                                 \n",
            "=================================================================\n",
            "Total params: 16812353 (64.13 MB)\n",
            "Trainable params: 16812353 (64.13 MB)\n",
            "Non-trainable params: 0 (0.00 Byte)\n",
            "_________________________________________________________________\n"
          ]
        }
      ],
      "source": [
        "# Arranging the layers in sequence\n",
        "\n",
        "model = models.Sequential()\n",
        "model.add(conv_base)\n",
        "model.add(layers.Flatten())\n",
        "model.add(layers.Dense(256, activation='relu'))\n",
        "model.add(layers.Dense(1, activation='sigmoid'))\n",
        "\n",
        "# Compiling\n",
        "model.compile(loss='binary_crossentropy',\n",
        "              optimizer=optimizers.Adam(learning_rate=2e-5),\n",
        "              metrics=['accuracy'])\n",
        "\n",
        "# Use actual input data (dummy data) to build the model\n",
        "dummy_data = np.random.random((20, 150, 150, 3))  # Use a batch of 20 samples with input shape (150, 150, 3)\n",
        "model.predict(dummy_data)  # Perform a forward pass to build the model\n",
        "\n",
        "# Now, print the layer names and output shapes using the `.output` property\n",
        "for layer in model.layers:\n",
        "    print(f\"Layer: {layer.name}, Output Tensor: {layer.output}\")  # This should work without error\n",
        "\n",
        "# Print the model summary\n",
        "model.summary()"
      ]
    },
    {
      "cell_type": "code",
      "execution_count": 15,
      "id": "cd5cb068-f44a-4c5a-b8b5-535c7d2e2c89",
      "metadata": {
        "id": "cd5cb068-f44a-4c5a-b8b5-535c7d2e2c89",
        "colab": {
          "base_uri": "https://localhost:8080/"
        },
        "outputId": "8acf9959-b56f-47aa-a203-29b485e7a663"
      },
      "outputs": [
        {
          "output_type": "stream",
          "name": "stderr",
          "text": [
            "WARNING:absl:Skipping variable loading for optimizer 'Adam', because it has 1 variables whereas the saved optimizer has 61 variables. \n"
          ]
        }
      ],
      "source": [
        "# Reload the model weights for the first epoch\n",
        "\n",
        "model.load_weights('/content/drive/My Drive/ML_Dataset/Cat_and_dogs_model.weights.h5')"
      ]
    },
    {
      "cell_type": "code",
      "execution_count": 16,
      "id": "aa07694d-e8fb-4995-b7e8-c2b9747e4fda",
      "metadata": {
        "id": "aa07694d-e8fb-4995-b7e8-c2b9747e4fda"
      },
      "outputs": [],
      "source": [
        "# Saving from the resumed training\n",
        "checkpoint_cb = keras.callbacks.ModelCheckpoint('/content/drive/My Drive/ML_Dataset/Cat_and_dogs_model.keras', save_best_only=True)\n",
        "early_stopping_cb = keras.callbacks.EarlyStopping(monitor='val_loss', patience=5, mode='min', restore_best_weights=True)"
      ]
    },
    {
      "cell_type": "code",
      "execution_count": 17,
      "id": "0124648a-a34f-479b-a926-03f452da0dc6",
      "metadata": {
        "id": "0124648a-a34f-479b-a926-03f452da0dc6",
        "outputId": "f5e0c6af-6987-4fd8-a7e6-14d5bb70434e",
        "colab": {
          "base_uri": "https://localhost:8080/"
        }
      },
      "outputs": [
        {
          "output_type": "stream",
          "name": "stdout",
          "text": [
            "(20, 150, 150, 3)\n",
            "(20,)\n"
          ]
        }
      ],
      "source": [
        "val_data = next(validation_generator)\n",
        "print(val_data[0].shape)  # Print shape of images\n",
        "print(val_data[1].shape)  # Print shape of labels"
      ]
    },
    {
      "cell_type": "code",
      "execution_count": 18,
      "id": "0101434d-a3ab-4736-a2ee-f47032808149",
      "metadata": {
        "id": "0101434d-a3ab-4736-a2ee-f47032808149",
        "outputId": "87f01929-ed07-41a0-c02c-314e3c3b2046",
        "colab": {
          "base_uri": "https://localhost:8080/"
        }
      },
      "outputs": [
        {
          "output_type": "stream",
          "name": "stdout",
          "text": [
            "Epoch 23/50\n",
            "100/100 [==============================] - 669s 7s/step - loss: 0.0454 - accuracy: 0.9835 - val_loss: 0.0943 - val_accuracy: 0.9660\n",
            "Epoch 24/50\n",
            "100/100 [==============================] - 170s 2s/step - loss: 0.0321 - accuracy: 0.9875 - val_loss: 0.1144 - val_accuracy: 0.9540\n",
            "Epoch 25/50\n",
            "100/100 [==============================] - 169s 2s/step - loss: 0.0424 - accuracy: 0.9850 - val_loss: 0.1266 - val_accuracy: 0.9600\n",
            "Epoch 26/50\n",
            "100/100 [==============================] - 169s 2s/step - loss: 0.0276 - accuracy: 0.9905 - val_loss: 0.1117 - val_accuracy: 0.9680\n",
            "Epoch 27/50\n",
            "100/100 [==============================] - 168s 2s/step - loss: 0.0503 - accuracy: 0.9790 - val_loss: 0.1464 - val_accuracy: 0.9460\n",
            "Epoch 28/50\n",
            "100/100 [==============================] - 168s 2s/step - loss: 0.0274 - accuracy: 0.9905 - val_loss: 0.1060 - val_accuracy: 0.9660\n"
          ]
        }
      ],
      "source": [
        "# Fit the model\n",
        "\n",
        "history = model.fit(\n",
        "    train_generator,\n",
        "    steps_per_epoch=100,\n",
        "    epochs=50,\n",
        "    validation_data=validation_generator,\n",
        "    validation_steps=50,\n",
        "    callbacks=[checkpoint_cb, early_stopping_cb],\n",
        "    initial_epoch=22)"
      ]
    },
    {
      "cell_type": "code",
      "execution_count": 19,
      "id": "6e558bf1-1d18-4781-a096-c6baccc5b1a3",
      "metadata": {
        "id": "6e558bf1-1d18-4781-a096-c6baccc5b1a3",
        "colab": {
          "base_uri": "https://localhost:8080/",
          "height": 206
        },
        "outputId": "5aa48cca-fc34-4142-c676-d11fcd179bd9"
      },
      "outputs": [
        {
          "output_type": "execute_result",
          "data": {
            "text/plain": [
              "       loss  accuracy  val_loss  val_accuracy\n",
              "1  0.032101    0.9875  0.114442         0.954\n",
              "2  0.042394    0.9850  0.126633         0.960\n",
              "3  0.027645    0.9905  0.111717         0.968\n",
              "4  0.050339    0.9790  0.146431         0.946\n",
              "5  0.027370    0.9905  0.106003         0.966"
            ],
            "text/html": [
              "\n",
              "  <div id=\"df-147aff00-d9d9-4ebc-a502-081ab7c60aa1\" class=\"colab-df-container\">\n",
              "    <div>\n",
              "<style scoped>\n",
              "    .dataframe tbody tr th:only-of-type {\n",
              "        vertical-align: middle;\n",
              "    }\n",
              "\n",
              "    .dataframe tbody tr th {\n",
              "        vertical-align: top;\n",
              "    }\n",
              "\n",
              "    .dataframe thead th {\n",
              "        text-align: right;\n",
              "    }\n",
              "</style>\n",
              "<table border=\"1\" class=\"dataframe\">\n",
              "  <thead>\n",
              "    <tr style=\"text-align: right;\">\n",
              "      <th></th>\n",
              "      <th>loss</th>\n",
              "      <th>accuracy</th>\n",
              "      <th>val_loss</th>\n",
              "      <th>val_accuracy</th>\n",
              "    </tr>\n",
              "  </thead>\n",
              "  <tbody>\n",
              "    <tr>\n",
              "      <th>1</th>\n",
              "      <td>0.032101</td>\n",
              "      <td>0.9875</td>\n",
              "      <td>0.114442</td>\n",
              "      <td>0.954</td>\n",
              "    </tr>\n",
              "    <tr>\n",
              "      <th>2</th>\n",
              "      <td>0.042394</td>\n",
              "      <td>0.9850</td>\n",
              "      <td>0.126633</td>\n",
              "      <td>0.960</td>\n",
              "    </tr>\n",
              "    <tr>\n",
              "      <th>3</th>\n",
              "      <td>0.027645</td>\n",
              "      <td>0.9905</td>\n",
              "      <td>0.111717</td>\n",
              "      <td>0.968</td>\n",
              "    </tr>\n",
              "    <tr>\n",
              "      <th>4</th>\n",
              "      <td>0.050339</td>\n",
              "      <td>0.9790</td>\n",
              "      <td>0.146431</td>\n",
              "      <td>0.946</td>\n",
              "    </tr>\n",
              "    <tr>\n",
              "      <th>5</th>\n",
              "      <td>0.027370</td>\n",
              "      <td>0.9905</td>\n",
              "      <td>0.106003</td>\n",
              "      <td>0.966</td>\n",
              "    </tr>\n",
              "  </tbody>\n",
              "</table>\n",
              "</div>\n",
              "    <div class=\"colab-df-buttons\">\n",
              "\n",
              "  <div class=\"colab-df-container\">\n",
              "    <button class=\"colab-df-convert\" onclick=\"convertToInteractive('df-147aff00-d9d9-4ebc-a502-081ab7c60aa1')\"\n",
              "            title=\"Convert this dataframe to an interactive table.\"\n",
              "            style=\"display:none;\">\n",
              "\n",
              "  <svg xmlns=\"http://www.w3.org/2000/svg\" height=\"24px\" viewBox=\"0 -960 960 960\">\n",
              "    <path d=\"M120-120v-720h720v720H120Zm60-500h600v-160H180v160Zm220 220h160v-160H400v160Zm0 220h160v-160H400v160ZM180-400h160v-160H180v160Zm440 0h160v-160H620v160ZM180-180h160v-160H180v160Zm440 0h160v-160H620v160Z\"/>\n",
              "  </svg>\n",
              "    </button>\n",
              "\n",
              "  <style>\n",
              "    .colab-df-container {\n",
              "      display:flex;\n",
              "      gap: 12px;\n",
              "    }\n",
              "\n",
              "    .colab-df-convert {\n",
              "      background-color: #E8F0FE;\n",
              "      border: none;\n",
              "      border-radius: 50%;\n",
              "      cursor: pointer;\n",
              "      display: none;\n",
              "      fill: #1967D2;\n",
              "      height: 32px;\n",
              "      padding: 0 0 0 0;\n",
              "      width: 32px;\n",
              "    }\n",
              "\n",
              "    .colab-df-convert:hover {\n",
              "      background-color: #E2EBFA;\n",
              "      box-shadow: 0px 1px 2px rgba(60, 64, 67, 0.3), 0px 1px 3px 1px rgba(60, 64, 67, 0.15);\n",
              "      fill: #174EA6;\n",
              "    }\n",
              "\n",
              "    .colab-df-buttons div {\n",
              "      margin-bottom: 4px;\n",
              "    }\n",
              "\n",
              "    [theme=dark] .colab-df-convert {\n",
              "      background-color: #3B4455;\n",
              "      fill: #D2E3FC;\n",
              "    }\n",
              "\n",
              "    [theme=dark] .colab-df-convert:hover {\n",
              "      background-color: #434B5C;\n",
              "      box-shadow: 0px 1px 3px 1px rgba(0, 0, 0, 0.15);\n",
              "      filter: drop-shadow(0px 1px 2px rgba(0, 0, 0, 0.3));\n",
              "      fill: #FFFFFF;\n",
              "    }\n",
              "  </style>\n",
              "\n",
              "    <script>\n",
              "      const buttonEl =\n",
              "        document.querySelector('#df-147aff00-d9d9-4ebc-a502-081ab7c60aa1 button.colab-df-convert');\n",
              "      buttonEl.style.display =\n",
              "        google.colab.kernel.accessAllowed ? 'block' : 'none';\n",
              "\n",
              "      async function convertToInteractive(key) {\n",
              "        const element = document.querySelector('#df-147aff00-d9d9-4ebc-a502-081ab7c60aa1');\n",
              "        const dataTable =\n",
              "          await google.colab.kernel.invokeFunction('convertToInteractive',\n",
              "                                                    [key], {});\n",
              "        if (!dataTable) return;\n",
              "\n",
              "        const docLinkHtml = 'Like what you see? Visit the ' +\n",
              "          '<a target=\"_blank\" href=https://colab.research.google.com/notebooks/data_table.ipynb>data table notebook</a>'\n",
              "          + ' to learn more about interactive tables.';\n",
              "        element.innerHTML = '';\n",
              "        dataTable['output_type'] = 'display_data';\n",
              "        await google.colab.output.renderOutput(dataTable, element);\n",
              "        const docLink = document.createElement('div');\n",
              "        docLink.innerHTML = docLinkHtml;\n",
              "        element.appendChild(docLink);\n",
              "      }\n",
              "    </script>\n",
              "  </div>\n",
              "\n",
              "\n",
              "<div id=\"df-cabc0958-779f-4c17-a472-113f06035342\">\n",
              "  <button class=\"colab-df-quickchart\" onclick=\"quickchart('df-cabc0958-779f-4c17-a472-113f06035342')\"\n",
              "            title=\"Suggest charts\"\n",
              "            style=\"display:none;\">\n",
              "\n",
              "<svg xmlns=\"http://www.w3.org/2000/svg\" height=\"24px\"viewBox=\"0 0 24 24\"\n",
              "     width=\"24px\">\n",
              "    <g>\n",
              "        <path d=\"M19 3H5c-1.1 0-2 .9-2 2v14c0 1.1.9 2 2 2h14c1.1 0 2-.9 2-2V5c0-1.1-.9-2-2-2zM9 17H7v-7h2v7zm4 0h-2V7h2v10zm4 0h-2v-4h2v4z\"/>\n",
              "    </g>\n",
              "</svg>\n",
              "  </button>\n",
              "\n",
              "<style>\n",
              "  .colab-df-quickchart {\n",
              "      --bg-color: #E8F0FE;\n",
              "      --fill-color: #1967D2;\n",
              "      --hover-bg-color: #E2EBFA;\n",
              "      --hover-fill-color: #174EA6;\n",
              "      --disabled-fill-color: #AAA;\n",
              "      --disabled-bg-color: #DDD;\n",
              "  }\n",
              "\n",
              "  [theme=dark] .colab-df-quickchart {\n",
              "      --bg-color: #3B4455;\n",
              "      --fill-color: #D2E3FC;\n",
              "      --hover-bg-color: #434B5C;\n",
              "      --hover-fill-color: #FFFFFF;\n",
              "      --disabled-bg-color: #3B4455;\n",
              "      --disabled-fill-color: #666;\n",
              "  }\n",
              "\n",
              "  .colab-df-quickchart {\n",
              "    background-color: var(--bg-color);\n",
              "    border: none;\n",
              "    border-radius: 50%;\n",
              "    cursor: pointer;\n",
              "    display: none;\n",
              "    fill: var(--fill-color);\n",
              "    height: 32px;\n",
              "    padding: 0;\n",
              "    width: 32px;\n",
              "  }\n",
              "\n",
              "  .colab-df-quickchart:hover {\n",
              "    background-color: var(--hover-bg-color);\n",
              "    box-shadow: 0 1px 2px rgba(60, 64, 67, 0.3), 0 1px 3px 1px rgba(60, 64, 67, 0.15);\n",
              "    fill: var(--button-hover-fill-color);\n",
              "  }\n",
              "\n",
              "  .colab-df-quickchart-complete:disabled,\n",
              "  .colab-df-quickchart-complete:disabled:hover {\n",
              "    background-color: var(--disabled-bg-color);\n",
              "    fill: var(--disabled-fill-color);\n",
              "    box-shadow: none;\n",
              "  }\n",
              "\n",
              "  .colab-df-spinner {\n",
              "    border: 2px solid var(--fill-color);\n",
              "    border-color: transparent;\n",
              "    border-bottom-color: var(--fill-color);\n",
              "    animation:\n",
              "      spin 1s steps(1) infinite;\n",
              "  }\n",
              "\n",
              "  @keyframes spin {\n",
              "    0% {\n",
              "      border-color: transparent;\n",
              "      border-bottom-color: var(--fill-color);\n",
              "      border-left-color: var(--fill-color);\n",
              "    }\n",
              "    20% {\n",
              "      border-color: transparent;\n",
              "      border-left-color: var(--fill-color);\n",
              "      border-top-color: var(--fill-color);\n",
              "    }\n",
              "    30% {\n",
              "      border-color: transparent;\n",
              "      border-left-color: var(--fill-color);\n",
              "      border-top-color: var(--fill-color);\n",
              "      border-right-color: var(--fill-color);\n",
              "    }\n",
              "    40% {\n",
              "      border-color: transparent;\n",
              "      border-right-color: var(--fill-color);\n",
              "      border-top-color: var(--fill-color);\n",
              "    }\n",
              "    60% {\n",
              "      border-color: transparent;\n",
              "      border-right-color: var(--fill-color);\n",
              "    }\n",
              "    80% {\n",
              "      border-color: transparent;\n",
              "      border-right-color: var(--fill-color);\n",
              "      border-bottom-color: var(--fill-color);\n",
              "    }\n",
              "    90% {\n",
              "      border-color: transparent;\n",
              "      border-bottom-color: var(--fill-color);\n",
              "    }\n",
              "  }\n",
              "</style>\n",
              "\n",
              "  <script>\n",
              "    async function quickchart(key) {\n",
              "      const quickchartButtonEl =\n",
              "        document.querySelector('#' + key + ' button');\n",
              "      quickchartButtonEl.disabled = true;  // To prevent multiple clicks.\n",
              "      quickchartButtonEl.classList.add('colab-df-spinner');\n",
              "      try {\n",
              "        const charts = await google.colab.kernel.invokeFunction(\n",
              "            'suggestCharts', [key], {});\n",
              "      } catch (error) {\n",
              "        console.error('Error during call to suggestCharts:', error);\n",
              "      }\n",
              "      quickchartButtonEl.classList.remove('colab-df-spinner');\n",
              "      quickchartButtonEl.classList.add('colab-df-quickchart-complete');\n",
              "    }\n",
              "    (() => {\n",
              "      let quickchartButtonEl =\n",
              "        document.querySelector('#df-cabc0958-779f-4c17-a472-113f06035342 button');\n",
              "      quickchartButtonEl.style.display =\n",
              "        google.colab.kernel.accessAllowed ? 'block' : 'none';\n",
              "    })();\n",
              "  </script>\n",
              "</div>\n",
              "\n",
              "    </div>\n",
              "  </div>\n"
            ],
            "application/vnd.google.colaboratory.intrinsic+json": {
              "type": "dataframe",
              "summary": "{\n  \"name\": \"hist_df\",\n  \"rows\": 5,\n  \"fields\": [\n    {\n      \"column\": \"loss\",\n      \"properties\": {\n        \"dtype\": \"number\",\n        \"std\": 0.01007421647443031,\n        \"min\": 0.02737049013376236,\n        \"max\": 0.05033890902996063,\n        \"num_unique_values\": 5,\n        \"samples\": [\n          0.042394038289785385,\n          0.02737049013376236,\n          0.027644935995340347\n        ],\n        \"semantic_type\": \"\",\n        \"description\": \"\"\n      }\n    },\n    {\n      \"column\": \"accuracy\",\n      \"properties\": {\n        \"dtype\": \"number\",\n        \"std\": 0.0047827807949634244,\n        \"min\": 0.9789999723434448,\n        \"max\": 0.9904999732971191,\n        \"num_unique_values\": 4,\n        \"samples\": [\n          0.9850000143051147,\n          0.9789999723434448,\n          0.987500011920929\n        ],\n        \"semantic_type\": \"\",\n        \"description\": \"\"\n      }\n    },\n    {\n      \"column\": \"val_loss\",\n      \"properties\": {\n        \"dtype\": \"number\",\n        \"std\": 0.016066700568014864,\n        \"min\": 0.10600326210260391,\n        \"max\": 0.14643143117427826,\n        \"num_unique_values\": 5,\n        \"samples\": [\n          0.12663312256336212,\n          0.10600326210260391,\n          0.1117173507809639\n        ],\n        \"semantic_type\": \"\",\n        \"description\": \"\"\n      }\n    },\n    {\n      \"column\": \"val_accuracy\",\n      \"properties\": {\n        \"dtype\": \"number\",\n        \"std\": 0.0090111139234401,\n        \"min\": 0.9459999799728394,\n        \"max\": 0.9679999947547913,\n        \"num_unique_values\": 5,\n        \"samples\": [\n          0.9599999785423279,\n          0.9660000205039978,\n          0.9679999947547913\n        ],\n        \"semantic_type\": \"\",\n        \"description\": \"\"\n      }\n    }\n  ]\n}"
            }
          },
          "metadata": {},
          "execution_count": 19
        }
      ],
      "source": [
        "# Store the accuracies and losses in a dataframe\n",
        "\n",
        "hist_df = pd.DataFrame(history.history)\n",
        "hist_df.tail()"
      ]
    },
    {
      "cell_type": "code",
      "execution_count": 20,
      "id": "f067d1d2-cc42-4193-a5ab-5fecdc887fb7",
      "metadata": {
        "id": "f067d1d2-cc42-4193-a5ab-5fecdc887fb7"
      },
      "outputs": [],
      "source": [
        "# Save the accuracies and losses to a *csv file\n",
        "\n",
        "hist_csv_file = os.path.join('/content/drive/My Drive/ML_Dataset', 'history.csv')\n",
        "with open(hist_csv_file, mode='w', newline='') as f:\n",
        "    hist_df.to_csv(f, index=False)"
      ]
    },
    {
      "cell_type": "code",
      "execution_count": 21,
      "id": "96f6d68a-dd69-4ba8-814b-977032942246",
      "metadata": {
        "id": "96f6d68a-dd69-4ba8-814b-977032942246",
        "colab": {
          "base_uri": "https://localhost:8080/"
        },
        "outputId": "88909185-9585-4914-ea80-111d6ecc9139"
      },
      "outputs": [
        {
          "output_type": "stream",
          "name": "stdout",
          "text": [
            "Found 1000 images belonging to 2 classes.\n"
          ]
        }
      ],
      "source": [
        "# Generating batches of tensor image data from the test data, rescale, set target size and batch size\n",
        "\n",
        "test_datagen = ImageDataGenerator(rescale=1./255)\n",
        "\n",
        "test_generator = test_datagen.flow_from_directory(\n",
        "        test_dir,\n",
        "        target_size=(150, 150),\n",
        "        batch_size=20,\n",
        "        class_mode='binary')"
      ]
    },
    {
      "cell_type": "code",
      "execution_count": 22,
      "id": "918fcb47-f873-4535-af44-362d22030683",
      "metadata": {
        "id": "918fcb47-f873-4535-af44-362d22030683",
        "colab": {
          "base_uri": "https://localhost:8080/"
        },
        "outputId": "9e946c75-8c6a-4d41-d03f-1ec654dc211f"
      },
      "outputs": [
        {
          "output_type": "stream",
          "name": "stdout",
          "text": [
            "50/50 [==============================] - 107s 2s/step - loss: 0.1179 - accuracy: 0.9610\n"
          ]
        },
        {
          "output_type": "execute_result",
          "data": {
            "text/plain": [
              "[0.11786474287509918, 0.9610000252723694]"
            ]
          },
          "metadata": {},
          "execution_count": 22
        }
      ],
      "source": [
        "# Check for the model accuracy from the test set\n",
        "\n",
        "model.evaluate(test_generator, steps=50)"
      ]
    }
  ],
  "metadata": {
    "colab": {
      "provenance": [],
      "gpuType": "V28",
      "include_colab_link": true
    },
    "kernelspec": {
      "display_name": "Python 3",
      "name": "python3"
    },
    "language_info": {
      "codemirror_mode": {
        "name": "ipython",
        "version": 3
      },
      "file_extension": ".py",
      "mimetype": "text/x-python",
      "name": "python",
      "nbconvert_exporter": "python",
      "pygments_lexer": "ipython3",
      "version": "3.11.7"
    },
    "accelerator": "TPU"
  },
  "nbformat": 4,
  "nbformat_minor": 5
}